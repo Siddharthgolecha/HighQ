{
  "nbformat": 4,
  "nbformat_minor": 0,
  "metadata": {
    "colab": {
      "name": "QOSF Mentorship Task 2.ipynb",
      "provenance": [],
      "collapsed_sections": [
        "4BoxKZJ_wkqa"
      ],
      "authorship_tag": "ABX9TyOqLLcEgmjgz5l947QghnmU",
      "include_colab_link": true
    },
    "kernelspec": {
      "name": "python3",
      "display_name": "Python 3"
    },
    "language_info": {
      "name": "python"
    }
  },
  "cells": [
    {
      "cell_type": "markdown",
      "metadata": {
        "id": "view-in-github",
        "colab_type": "text"
      },
      "source": [
        "<a href=\"https://colab.research.google.com/github/Siddharthgolecha/HighQ/blob/main/QOSF_Mentorship_Task_2.ipynb\" target=\"_parent\"><img src=\"https://colab.research.google.com/assets/colab-badge.svg\" alt=\"Open In Colab\"/></a>"
      ]
    },
    {
      "cell_type": "markdown",
      "metadata": {
        "id": "4BoxKZJ_wkqa"
      },
      "source": [
        "#Basic Setup"
      ]
    },
    {
      "cell_type": "markdown",
      "metadata": {
        "id": "M8h9HavBw4Gi"
      },
      "source": [
        "##Installing required packages\n",
        "\n",
        "For this task, I am using Qiskit along with PyTorch to complete it.\n",
        "\n",
        "Installing packages:\n",
        "\n",
        "* Qiskit v 0.18.3\n",
        "* Pytorch v 1.9.0+cu102\n"
      ]
    },
    {
      "cell_type": "code",
      "metadata": {
        "colab": {
          "base_uri": "https://localhost:8080/"
        },
        "id": "kjXGOOz5wL5y",
        "outputId": "5650cba9-79be-4159-ce0b-59d9587899e4"
      },
      "source": [
        "!pip install qiskit\n",
        "!pip install torch"
      ],
      "execution_count": 1,
      "outputs": [
        {
          "output_type": "stream",
          "name": "stdout",
          "text": [
            "Collecting qiskit\n",
            "  Downloading qiskit-0.30.1.tar.gz (13 kB)\n",
            "Collecting qiskit-terra==0.18.3\n",
            "  Downloading qiskit_terra-0.18.3-cp37-cp37m-manylinux2010_x86_64.whl (6.1 MB)\n",
            "\u001b[K     |████████████████████████████████| 6.1 MB 4.6 MB/s \n",
            "\u001b[?25hCollecting qiskit-aer==0.9.0\n",
            "  Downloading qiskit_aer-0.9.0-cp37-cp37m-manylinux_2_12_x86_64.manylinux2010_x86_64.whl (17.9 MB)\n",
            "\u001b[K     |████████████████████████████████| 17.9 MB 123 kB/s \n",
            "\u001b[?25hCollecting qiskit-ibmq-provider==0.16.0\n",
            "  Downloading qiskit_ibmq_provider-0.16.0-py3-none-any.whl (235 kB)\n",
            "\u001b[K     |████████████████████████████████| 235 kB 44.8 MB/s \n",
            "\u001b[?25hCollecting qiskit-ignis==0.6.0\n",
            "  Downloading qiskit_ignis-0.6.0-py3-none-any.whl (207 kB)\n",
            "\u001b[K     |████████████████████████████████| 207 kB 71.6 MB/s \n",
            "\u001b[?25hCollecting qiskit-aqua==0.9.5\n",
            "  Downloading qiskit_aqua-0.9.5-py3-none-any.whl (2.1 MB)\n",
            "\u001b[K     |████████████████████████████████| 2.1 MB 25.9 MB/s \n",
            "\u001b[?25hRequirement already satisfied: scipy>=1.0 in /usr/local/lib/python3.7/dist-packages (from qiskit-aer==0.9.0->qiskit) (1.4.1)\n",
            "Collecting pybind11>=2.6\n",
            "  Downloading pybind11-2.7.1-py2.py3-none-any.whl (200 kB)\n",
            "\u001b[K     |████████████████████████████████| 200 kB 57.9 MB/s \n",
            "\u001b[?25hRequirement already satisfied: numpy>=1.16.3 in /usr/local/lib/python3.7/dist-packages (from qiskit-aer==0.9.0->qiskit) (1.19.5)\n",
            "Requirement already satisfied: psutil>=5 in /usr/local/lib/python3.7/dist-packages (from qiskit-aqua==0.9.5->qiskit) (5.4.8)\n",
            "Requirement already satisfied: h5py<3.3.0 in /usr/local/lib/python3.7/dist-packages (from qiskit-aqua==0.9.5->qiskit) (3.1.0)\n",
            "Collecting retworkx>=0.8.0\n",
            "  Downloading retworkx-0.10.2-cp37-cp37m-manylinux_2_5_x86_64.manylinux1_x86_64.manylinux_2_12_x86_64.manylinux2010_x86_64.whl (1.4 MB)\n",
            "\u001b[K     |████████████████████████████████| 1.4 MB 46.2 MB/s \n",
            "\u001b[?25hRequirement already satisfied: pandas in /usr/local/lib/python3.7/dist-packages (from qiskit-aqua==0.9.5->qiskit) (1.1.5)\n",
            "Collecting yfinance>=0.1.62\n",
            "  Downloading yfinance-0.1.63.tar.gz (26 kB)\n",
            "Collecting docplex>=2.21.207\n",
            "  Downloading docplex-2.22.213.tar.gz (634 kB)\n",
            "\u001b[K     |████████████████████████████████| 634 kB 62.6 MB/s \n",
            "\u001b[?25hCollecting quandl\n",
            "  Downloading Quandl-3.6.1-py2.py3-none-any.whl (26 kB)\n",
            "Requirement already satisfied: fastdtw<=0.3.4 in /usr/local/lib/python3.7/dist-packages (from qiskit-aqua==0.9.5->qiskit) (0.3.4)\n",
            "Requirement already satisfied: sympy>=1.3 in /usr/local/lib/python3.7/dist-packages (from qiskit-aqua==0.9.5->qiskit) (1.7.1)\n",
            "Requirement already satisfied: setuptools>=40.1.0 in /usr/local/lib/python3.7/dist-packages (from qiskit-aqua==0.9.5->qiskit) (57.4.0)\n",
            "Requirement already satisfied: scikit-learn>=0.20.0 in /usr/local/lib/python3.7/dist-packages (from qiskit-aqua==0.9.5->qiskit) (0.22.2.post1)\n",
            "Collecting dlx<=1.0.4\n",
            "  Downloading dlx-1.0.4.tar.gz (5.5 kB)\n",
            "Collecting requests-ntlm>=1.1.0\n",
            "  Downloading requests_ntlm-1.1.0-py2.py3-none-any.whl (5.7 kB)\n",
            "Requirement already satisfied: python-dateutil>=2.8.0 in /usr/local/lib/python3.7/dist-packages (from qiskit-ibmq-provider==0.16.0->qiskit) (2.8.2)\n",
            "Collecting websocket-client>=1.0.1\n",
            "  Downloading websocket_client-1.2.1-py2.py3-none-any.whl (52 kB)\n",
            "\u001b[K     |████████████████████████████████| 52 kB 1.1 MB/s \n",
            "\u001b[?25hRequirement already satisfied: urllib3>=1.21.1 in /usr/local/lib/python3.7/dist-packages (from qiskit-ibmq-provider==0.16.0->qiskit) (1.24.3)\n",
            "Requirement already satisfied: requests>=2.19 in /usr/local/lib/python3.7/dist-packages (from qiskit-ibmq-provider==0.16.0->qiskit) (2.23.0)\n",
            "Collecting symengine>0.7\n",
            "  Downloading symengine-0.8.1-cp37-cp37m-manylinux2010_x86_64.whl (38.2 MB)\n",
            "\u001b[K     |████████████████████████████████| 38.2 MB 21 kB/s \n",
            "\u001b[?25hRequirement already satisfied: jsonschema>=2.6 in /usr/local/lib/python3.7/dist-packages (from qiskit-terra==0.18.3->qiskit) (2.6.0)\n",
            "Collecting python-constraint>=1.4\n",
            "  Downloading python-constraint-1.4.0.tar.bz2 (18 kB)\n",
            "Collecting fastjsonschema>=2.10\n",
            "  Downloading fastjsonschema-2.15.1-py3-none-any.whl (21 kB)\n",
            "Collecting ply>=3.10\n",
            "  Downloading ply-3.11-py2.py3-none-any.whl (49 kB)\n",
            "\u001b[K     |████████████████████████████████| 49 kB 5.6 MB/s \n",
            "\u001b[?25hCollecting tweedledum<2.0,>=1.1\n",
            "  Downloading tweedledum-1.1.1-cp37-cp37m-manylinux_2_12_x86_64.manylinux2010_x86_64.whl (943 kB)\n",
            "\u001b[K     |████████████████████████████████| 943 kB 36.8 MB/s \n",
            "\u001b[?25hRequirement already satisfied: dill>=0.3 in /usr/local/lib/python3.7/dist-packages (from qiskit-terra==0.18.3->qiskit) (0.3.4)\n",
            "Requirement already satisfied: six in /usr/local/lib/python3.7/dist-packages (from docplex>=2.21.207->qiskit-aqua==0.9.5->qiskit) (1.15.0)\n",
            "Requirement already satisfied: cached-property in /usr/local/lib/python3.7/dist-packages (from h5py<3.3.0->qiskit-aqua==0.9.5->qiskit) (1.5.2)\n",
            "Requirement already satisfied: idna<3,>=2.5 in /usr/local/lib/python3.7/dist-packages (from requests>=2.19->qiskit-ibmq-provider==0.16.0->qiskit) (2.10)\n",
            "Requirement already satisfied: chardet<4,>=3.0.2 in /usr/local/lib/python3.7/dist-packages (from requests>=2.19->qiskit-ibmq-provider==0.16.0->qiskit) (3.0.4)\n",
            "Requirement already satisfied: certifi>=2017.4.17 in /usr/local/lib/python3.7/dist-packages (from requests>=2.19->qiskit-ibmq-provider==0.16.0->qiskit) (2021.5.30)\n",
            "Collecting ntlm-auth>=1.0.2\n",
            "  Downloading ntlm_auth-1.5.0-py2.py3-none-any.whl (29 kB)\n",
            "Collecting cryptography>=1.3\n",
            "  Downloading cryptography-35.0.0-cp36-abi3-manylinux_2_24_x86_64.whl (3.5 MB)\n",
            "\u001b[K     |████████████████████████████████| 3.5 MB 20.1 MB/s \n",
            "\u001b[?25hRequirement already satisfied: cffi>=1.12 in /usr/local/lib/python3.7/dist-packages (from cryptography>=1.3->requests-ntlm>=1.1.0->qiskit-ibmq-provider==0.16.0->qiskit) (1.14.6)\n",
            "Requirement already satisfied: pycparser in /usr/local/lib/python3.7/dist-packages (from cffi>=1.12->cryptography>=1.3->requests-ntlm>=1.1.0->qiskit-ibmq-provider==0.16.0->qiskit) (2.20)\n",
            "Requirement already satisfied: joblib>=0.11 in /usr/local/lib/python3.7/dist-packages (from scikit-learn>=0.20.0->qiskit-aqua==0.9.5->qiskit) (1.0.1)\n",
            "Requirement already satisfied: mpmath>=0.19 in /usr/local/lib/python3.7/dist-packages (from sympy>=1.3->qiskit-aqua==0.9.5->qiskit) (1.2.1)\n",
            "Requirement already satisfied: multitasking>=0.0.7 in /usr/local/lib/python3.7/dist-packages (from yfinance>=0.1.62->qiskit-aqua==0.9.5->qiskit) (0.0.9)\n",
            "Collecting lxml>=4.5.1\n",
            "  Downloading lxml-4.6.3-cp37-cp37m-manylinux2014_x86_64.whl (6.3 MB)\n",
            "\u001b[K     |████████████████████████████████| 6.3 MB 21.0 MB/s \n",
            "\u001b[?25hRequirement already satisfied: pytz>=2017.2 in /usr/local/lib/python3.7/dist-packages (from pandas->qiskit-aqua==0.9.5->qiskit) (2018.9)\n",
            "Collecting inflection>=0.3.1\n",
            "  Downloading inflection-0.5.1-py2.py3-none-any.whl (9.5 kB)\n",
            "Requirement already satisfied: more-itertools in /usr/local/lib/python3.7/dist-packages (from quandl->qiskit-aqua==0.9.5->qiskit) (8.10.0)\n",
            "Building wheels for collected packages: qiskit, dlx, docplex, python-constraint, yfinance\n",
            "  Building wheel for qiskit (setup.py) ... \u001b[?25l\u001b[?25hdone\n",
            "  Created wheel for qiskit: filename=qiskit-0.30.1-py3-none-any.whl size=11697 sha256=21aa425acb8bcabec1f896b240c31a0e26032e5857035bfc4afedb547782591a\n",
            "  Stored in directory: /root/.cache/pip/wheels/b1/fe/6d/96c159b80d9cd79bf1e54b71ad4920634549a826236dd1c9ca\n",
            "  Building wheel for dlx (setup.py) ... \u001b[?25l\u001b[?25hdone\n",
            "  Created wheel for dlx: filename=dlx-1.0.4-py3-none-any.whl size=5719 sha256=21db8ae2c21d149e875a01d15826d8da931a469f2b8b4f4b434e1e55ef8c0089\n",
            "  Stored in directory: /root/.cache/pip/wheels/78/55/c8/dc61e772445a566b7608a476d151e9dcaf4e092b01b0c4bc3c\n",
            "  Building wheel for docplex (setup.py) ... \u001b[?25l\u001b[?25hdone\n",
            "  Created wheel for docplex: filename=docplex-2.22.213-py3-none-any.whl size=696881 sha256=97e479fc92e9177b3d753e6c6bd8bc574736d19795c291744357021b9be1e484\n",
            "  Stored in directory: /root/.cache/pip/wheels/90/69/6b/1375c68a5b7ff94c40263b151c86f58bd72200bf0c465b5ba3\n",
            "  Building wheel for python-constraint (setup.py) ... \u001b[?25l\u001b[?25hdone\n",
            "  Created wheel for python-constraint: filename=python_constraint-1.4.0-py2.py3-none-any.whl size=24081 sha256=bb451f470362a3c6871992a6423c397c2cc4b0a6046886175c318864dbf5242b\n",
            "  Stored in directory: /root/.cache/pip/wheels/07/27/db/1222c80eb1e431f3d2199c12569cb1cac60f562a451fe30479\n",
            "  Building wheel for yfinance (setup.py) ... \u001b[?25l\u001b[?25hdone\n",
            "  Created wheel for yfinance: filename=yfinance-0.1.63-py2.py3-none-any.whl size=23918 sha256=c2eeb740497844dee8c4064be232235ac3528a66a4e2c6a99a61bd0584feabb3\n",
            "  Stored in directory: /root/.cache/pip/wheels/fe/87/8b/7ec24486e001d3926537f5f7801f57a74d181be25b11157983\n",
            "Successfully built qiskit dlx docplex python-constraint yfinance\n",
            "Installing collected packages: tweedledum, symengine, retworkx, python-constraint, ply, fastjsonschema, qiskit-terra, ntlm-auth, lxml, inflection, cryptography, yfinance, websocket-client, requests-ntlm, quandl, qiskit-ignis, pybind11, docplex, dlx, qiskit-ibmq-provider, qiskit-aqua, qiskit-aer, qiskit\n",
            "  Attempting uninstall: lxml\n",
            "    Found existing installation: lxml 4.2.6\n",
            "    Uninstalling lxml-4.2.6:\n",
            "      Successfully uninstalled lxml-4.2.6\n",
            "Successfully installed cryptography-35.0.0 dlx-1.0.4 docplex-2.22.213 fastjsonschema-2.15.1 inflection-0.5.1 lxml-4.6.3 ntlm-auth-1.5.0 ply-3.11 pybind11-2.7.1 python-constraint-1.4.0 qiskit-0.30.1 qiskit-aer-0.9.0 qiskit-aqua-0.9.5 qiskit-ibmq-provider-0.16.0 qiskit-ignis-0.6.0 qiskit-terra-0.18.3 quandl-3.6.1 requests-ntlm-1.1.0 retworkx-0.10.2 symengine-0.8.1 tweedledum-1.1.1 websocket-client-1.2.1 yfinance-0.1.63\n",
            "Requirement already satisfied: torch in /usr/local/lib/python3.7/dist-packages (1.9.0+cu102)\n",
            "Requirement already satisfied: typing-extensions in /usr/local/lib/python3.7/dist-packages (from torch) (3.7.4.3)\n"
          ]
        }
      ]
    },
    {
      "cell_type": "markdown",
      "metadata": {
        "id": "eaAu3EHR0fcK"
      },
      "source": [
        "##Importing the required libraries\n",
        "\n",
        "The libraries to be imported are:\n",
        "\n",
        "* Qiskit\n",
        "* Pytorch\n",
        "* Numpy\n",
        "* Matplotlib"
      ]
    },
    {
      "cell_type": "code",
      "metadata": {
        "id": "cqvS5Oj5xDZo"
      },
      "source": [
        "import qiskit\n",
        "import numpy as np\n",
        "import torch\n",
        "from qiskit import QuantumCircuit, QuantumRegister, ClassicalRegister, Aer\n",
        "import torch.nn as nn\n",
        "import torch.optim as optim\n",
        "import matplotlib.pyplot as plt"
      ],
      "execution_count": 42,
      "outputs": []
    },
    {
      "cell_type": "code",
      "metadata": {
        "colab": {
          "base_uri": "https://localhost:8080/"
        },
        "id": "DKzQ6uq5zAzW",
        "outputId": "3e57fd6d-a881-4c7e-ae28-a1453c8f06cf"
      },
      "source": [
        "print(qiskit.__version__)\n",
        "print(qiskit.__qiskit_version__)"
      ],
      "execution_count": 10,
      "outputs": [
        {
          "output_type": "stream",
          "name": "stdout",
          "text": [
            "0.18.3\n",
            "{'qiskit-terra': '0.18.3', 'qiskit-aer': '0.9.0', 'qiskit-ignis': '0.6.0', 'qiskit-ibmq-provider': '0.16.0', 'qiskit-aqua': '0.9.5', 'qiskit': None, 'qiskit-nature': None, 'qiskit-finance': None, 'qiskit-optimization': None, 'qiskit-machine-learning': None}\n"
          ]
        }
      ]
    },
    {
      "cell_type": "code",
      "metadata": {
        "colab": {
          "base_uri": "https://localhost:8080/"
        },
        "id": "8C-aPTkuzpfe",
        "outputId": "dd7933ed-fa9a-4bd6-e524-04e83d44eb18"
      },
      "source": [
        "print(torch.__version__)"
      ],
      "execution_count": 11,
      "outputs": [
        {
          "output_type": "stream",
          "name": "stdout",
          "text": [
            "1.9.0+cu102\n"
          ]
        }
      ]
    },
    {
      "cell_type": "markdown",
      "metadata": {
        "id": "mwO9eNZZ4ojT"
      },
      "source": [
        "#Generating Random States"
      ]
    },
    {
      "cell_type": "markdown",
      "metadata": {
        "id": "APbNgkRl5BGz"
      },
      "source": [
        "##Creating TrainingData and Label classes to faciliate training\n",
        "\n",
        "* TrainingData - Creates a dataset of random values of required bit length and size\n",
        "* Labels - Wrapper class for the predefined output labels"
      ]
    },
    {
      "cell_type": "code",
      "metadata": {
        "id": "08G5WftSTuDe"
      },
      "source": [
        "class TrainingData:\n",
        "  \"\"\"\n",
        "  Creates a Training Dataset of random quantum states.\n",
        "\n",
        "  Args:\n",
        "      bit_len (int): The number of bits required to represent a state.\n",
        "      size (int): The size of dataset required for training. Minimum can be 1\n",
        "                  and maximum (n^2)\n",
        "      backend (AerBackend): The backend required to run the quantum simulation\n",
        "                            for random state generation. If not set, the \n",
        "                            QASM Simulator will be chosen as default.\n",
        "      shots (int): The number of shots provided to the backend. Default value \n",
        "                   is 1024.\n",
        "  \n",
        "  Raises: \n",
        "      TypeError: Raises the error, if the type determined is not valid.\n",
        "      ValueError: Raises the error, if the size is either less than 1 or\n",
        "                  greater than n^2.\n",
        "\n",
        "  \"\"\"\n",
        "\n",
        "  def __init__(self, bit_len, size, backend=Aer.get_backend('qasm_simulator'),\n",
        "               shots=1024):\n",
        "    \n",
        "    if not isinstance(bit_len, int):\n",
        "      raise TypeError(\"The length of bits must be an integer instead of {}.\".\n",
        "                      format(type(bit_len).__name__))\n",
        "    if not isinstance(size, int):\n",
        "      raise TypeError(\"The size of dataset must be an integer instead of {}.\".\n",
        "                      format(type(size).__name__))\n",
        "    \n",
        "    if size < 1:\n",
        "      raise ValueError(\"The minimum size of dataset must be 1.\")\n",
        "    if size > bit_len**2:\n",
        "      raise ValueError(\"The maximum size of dataset can be generated from {} \\\n",
        "      qubits is {}\".format(bit_len, bit_len**2))\n",
        "\n",
        "    self.bit_len = bit_len\n",
        "    self.backend = backend\n",
        "    self.shots = shots\n",
        "    self.size = size\n",
        "    counts = self.generate_samples(self.bit_len, self.backend, self.shots)\n",
        "\n",
        "    while len(counts) < self.size: \n",
        "      #Generates samples again if they less the required size\n",
        "      counts = self.generate_samples(self.bit_len, self.backend, self.shots)\n",
        "\n",
        "    #Sort the dictionary based on the count of states\n",
        "    self.counts = dict(sorted(counts.items(), \n",
        "                         key=lambda item: item[1]))\n",
        "    self._samples = list(self.counts.keys())[:self.size]\n",
        "    self.params = None\n",
        "\n",
        "  def generate_samples(self, qubits, backend=Aer.get_backend('qasm_simulator'),\n",
        "               shots=1024):\n",
        "    \"\"\"\n",
        "    Returns the samples and its counts generated by a random circuit.\n",
        "\n",
        "    Args:\n",
        "        qubits (int): The number of quantum bits and classical bits to generate\n",
        "                      samples.\n",
        "        backend (AerBackend): The backend required to run the quantum simulation\n",
        "                              for random state generation. If not set, the \n",
        "                              QASM Simulator will be chosen as default.\n",
        "        shots (int): The number of shots provided to the backend. Default value \n",
        "                     is 1024.\n",
        "    \"\"\"\n",
        "    circuit = QuantumCircuit(qubits,qubits)\n",
        "    for i in range(qubits):\n",
        "      args = np.random.rand(3)*2*np.pi\n",
        "      circuit.u(args[0], args[1], args[2], i)\n",
        "      circuit.measure(i,i)\n",
        "    result = backend.run(circuit, shots=shots).result()\n",
        "    counts = result.get_counts()\n",
        "\n",
        "    return counts\n",
        "\n",
        "  def to_params(self):\n",
        "    \"\"\"\n",
        "    Returns the dataset converted from states into angles(radians) for quantum\n",
        "    circuit.\n",
        "\n",
        "    Returns:\n",
        "        Ndarray: A 2D array of shape (self.size, self.bit_len) with paramaters\n",
        "                 to be passed to QNNCircuit for training.\n",
        "    \"\"\"\n",
        "    self.params = np.zeros((self.size,self.bit_len))\n",
        "    for index in range(self.size):\n",
        "      sample = self.samples[index]\n",
        "      for i in range(self.bit_len):\n",
        "        state = sample[i]\n",
        "        if state==\"1\":\n",
        "          #RY(π/2)|0> = X|0> = |1>\n",
        "          self.params[index][self.bit_len-i-1] = np.pi/2 \n",
        "    return self.params\n",
        "\n",
        "  @property\n",
        "  def samples(self):\n",
        "    \"\"\"\n",
        "    Returns the samples generated by the random circuit\n",
        "\n",
        "    Returns:\n",
        "        List: A list of length 'size' containing different samples generated by\n",
        "              the quantum circuits \n",
        "    \"\"\"\n",
        "    return self._samples\n",
        "\n",
        "  @samples.setter\n",
        "  def samples(self, samples):\n",
        "    self._samples = samples\n",
        "\n",
        "  def __str__(self):\n",
        "    return str(self.samples)"
      ],
      "execution_count": 14,
      "outputs": []
    },
    {
      "cell_type": "code",
      "metadata": {
        "id": "fQisD_ix4DCi"
      },
      "source": [
        "class Labels:\n",
        "  \"\"\"\n",
        "  Creates a wrapper for labels for training the model\n",
        "\n",
        "  Args:\n",
        "      data (list(str)): A list of strings containing different states to be\n",
        "                        generated by the model.\n",
        "\n",
        "  Raises:\n",
        "      TypeError: Raises an error, if any of the element is either not string or\n",
        "                 a binary string\n",
        "  \"\"\"\n",
        "\n",
        "  def __init__(self, *data):\n",
        "\n",
        "    if isinstance(data[0], list):\n",
        "      data = data[0]\n",
        "    for label in data:\n",
        "      if not isinstance(label, str):\n",
        "        raise TypeError(\"Expected a string of strings but recieved a {}\".\n",
        "                        format(type(label).__name__))\n",
        "      try:\n",
        "        check = int(label,2)\n",
        "      except TypeError:\n",
        "        raise TypeError(\"The label {} is not a binary string\".format(label))\n",
        "    \n",
        "    self._data = list(data)\n",
        "    self.size = len(self.data)\n",
        "    self.bit_len = len(self.data[0])\n",
        "\n",
        "  @property\n",
        "  def data(self):\n",
        "    \"\"\"\n",
        "    Returns the labels\n",
        "\n",
        "    Returns:\n",
        "        List: List of binary labels for validation\n",
        "    \"\"\"\n",
        "    return self._data\n",
        "\n",
        "  @data.setter\n",
        "  def data(self, data):\n",
        "    self._data = data\n",
        "\n",
        "  def __str__(self):\n",
        "    return str(self._data)"
      ],
      "execution_count": 60,
      "outputs": []
    },
    {
      "cell_type": "code",
      "metadata": {
        "colab": {
          "base_uri": "https://localhost:8080/"
        },
        "id": "t1c7MOcVUAGz",
        "outputId": "7718df98-aea3-4be2-c416-0320cee1b91f"
      },
      "source": [
        "random_states = TrainingData(4, size=4)\n",
        "labels = Labels('0011', '0101', '1010', '1100')\n",
        "print(random_states)"
      ],
      "execution_count": 61,
      "outputs": [
        {
          "output_type": "stream",
          "name": "stdout",
          "text": [
            "['1000', '0011', '0001', '0000']\n"
          ]
        }
      ]
    },
    {
      "cell_type": "markdown",
      "metadata": {
        "id": "fBY9jGAr6Fm7"
      },
      "source": [
        "**Aim**: To map these newly random states to the predefined label states\n",
        "\n",
        "For example - \n",
        "\n",
        "* 0010 -> 0011\n",
        "* 0011 -> 0101\n",
        "* 0111 -> 1010\n",
        "* 1000 -> 1100\n",
        "\n",
        "**Proposed Solution**: Use Hybrid QGANs with Quantum Generators and Classical Discriminator to generate a required states for the random states."
      ]
    },
    {
      "cell_type": "markdown",
      "metadata": {
        "id": "99k7c6S3U28G"
      },
      "source": [
        "#Design Quantum Circuit for QNN\n",
        "\n",
        "The quantum circuit consists of alternating group of RY and RZ gates followed by full entanglement of CNOT gates. Taking the 32 theta and 4 label values, the quantum circuit can look like -\n",
        "\n",
        "\n",
        "![Quantum Circuit](https://drive.google.com/uc?export=view&id=16_h1xaog79R0hBN4tBUWkiswNSYlo5yd)\n"
      ]
    },
    {
      "cell_type": "code",
      "metadata": {
        "id": "sJSyJH8m6HXe"
      },
      "source": [
        "class QNNCircuit:\n",
        "  \"\"\" \n",
        "  Creates a Quantum Neural Network Circuit for Quantum Generator\n",
        "\n",
        "  Args:\n",
        "      kernel_size (int): The number of qubits in the Quantum Neural Network\n",
        "                         Circuit.\n",
        "      backend (AerBackend): The backend required to run the quantum simulation\n",
        "                            for random state generation. If not set, the \n",
        "                            QASM Simulator will be chosen as default.\n",
        "      shots (int): The number of shots provided to the backend. Default value \n",
        "                   is 1024.\n",
        "  \n",
        "  Raises: \n",
        "      TypeError: Raises the error, if the type determined is not valid.\n",
        "  \"\"\"\n",
        "    \n",
        "  def __init__(self, kernel_size,\n",
        "               backend=Aer.get_backend('qasm_simulator'),\n",
        "               shots = 1024):\n",
        "      \n",
        "    if not isinstance(kernel_size, int):\n",
        "      raise TypeError(\"The number of qubits must be an integer instead of {}.\".\n",
        "                      format(type(kernel_size).__name__))\n",
        "\n",
        "    # --- Circuit definition ---\n",
        "    self.kernel_size = kernel_size\n",
        "    self.training_qubits = QuantumRegister(kernel_size, name=\"training\")\n",
        "    self.measuring_register = ClassicalRegister(kernel_size, \"meas\")\n",
        "    self.circuit = QuantumCircuit(self.training_qubits, \n",
        "                                  self.measuring_register)\n",
        "    # ---------------------------\n",
        "    self.backend = backend\n",
        "    self.shots = shots\n",
        "   \n",
        "  def create_circuit(self, thetas, label):\n",
        "    \"\"\"\n",
        "    Add the gates and assign parameters to Quantum Circuit.\n",
        "\n",
        "    Args:\n",
        "        thetas (list(float), ndarray(float)): Training parameters to assign to\n",
        "                                              the quantum circuit.\n",
        "        label (list(float), ndarray(float)): Parameters to initialize the\n",
        "                                             state to the circuit.\n",
        "      \n",
        "    Raises:\n",
        "        TypeError: Raises an error if the arguments are neither list nor\n",
        "                   ndarray.\n",
        "        ValueError: Raises an erorr if label size is not equal to kernel_size\n",
        "    \"\"\"\n",
        "\n",
        "    if not isinstance(thetas, (list, np.ndarray)):\n",
        "      raise TypeError(\"Expected a list of floating or integer values but \\\n",
        "      recieved a {} for thetas\".format(type(thetas).__name__))\n",
        "    if not isinstance(label, (list, np.ndarray)):\n",
        "      raise TypeError(\"Expected a list of floating or integer values but \\\n",
        "      recieved a {} for label\".format(type(label).__name__))\n",
        "    if len(label) != self.kernel_size:\n",
        "      raise ValueError(\"Expected a size of {} for label but recieved {}\".\n",
        "                       format(self.kernel_size, len(label)))\n",
        "\n",
        "    if isinstance(thetas, np.ndarray):\n",
        "      thetas = thetas.tolist()\n",
        "    if isinstance(label, np.ndarray):\n",
        "      label = label.tolist()\n",
        "\n",
        "    #Initialising the Quantum state on the Quantum Circuit\n",
        "    #RY(π/2)|0> = |1>\n",
        "    #RY(0)|0> = |0> \n",
        "    for i in range(len(label)):\n",
        "      self.circuit.ry(label[i], self.training_qubits[i])\n",
        "\n",
        "    for i in range(len(thetas)):\n",
        "      #Fully entangled CNOT gates after each RY and RZ gates pair\n",
        "      if (i%(2*self.kernel_size))==0 and i!=0:\n",
        "        for j in range(self.kernel_size):\n",
        "          for k in range(j+1,self.kernel_size):\n",
        "            self.circuit.cnot(self.training_qubits[j],\n",
        "                              self.training_qubits[k])\n",
        "\n",
        "      #Alternating RY and RZ gates      \n",
        "      if (i//self.kernel_size)%2 == 0:\n",
        "        self.circuit.ry(thetas[i], \n",
        "                        self.training_qubits[i%self.kernel_size])\n",
        "      else:\n",
        "        self.circuit.rz(thetas[i], \n",
        "                        self.training_qubits[i%self.kernel_size])\n",
        "        \n",
        "  def expval(self):\n",
        "    \"\"\"\n",
        "    Calculates the expectation value of the created circuit. \n",
        "\n",
        "    Expectation Value = Sum(state(i)*probability(i))\n",
        "\n",
        "    Returns:\n",
        "        Float: Expectation value of the quantum circuit.\n",
        "    \"\"\"\n",
        "    expval = 0\n",
        "    result = self.get_states()\n",
        "    for key,val in result.items():\n",
        "      expval += key*val\n",
        "    return expval\n",
        "\n",
        "  def get_states(self):\n",
        "    \"\"\"\n",
        "    Measures the quantum circuit and outputs the probability of each state\n",
        "\n",
        "    Returns:\n",
        "        Dict(string: float): Probaility of different states measured by the\n",
        "                             quantum circuit\n",
        "    \"\"\"\n",
        "\n",
        "    self.circuit.measure(self.training_qubits, self.measuring_register)\n",
        "    job = self.backend.run(self.circuit, shots=self.shots)\n",
        "    counts = job.result().get_counts()\n",
        "    output = {key: val/self.shots for key, val in counts.items()}\n",
        "    return output"
      ],
      "execution_count": 29,
      "outputs": []
    },
    {
      "cell_type": "markdown",
      "metadata": {
        "id": "KhED4TyOfI-H"
      },
      "source": [
        "#Defining Hybrid Quantum GAN\n",
        "\n",
        "The Hybrid Quantum GAN consists of Quantum Generator and Classical Discriminator\n",
        "\n",
        "* **Quantum Generator** - It takes the random states and uses QNNCircuit to generate the probability of all the possible states.\n",
        "* **Classical Discriminator** - It takes the probabilties generated by the generator to check if it is producing real or fake outputs."
      ]
    },
    {
      "cell_type": "code",
      "metadata": {
        "id": "q5CWT_mNJxnR"
      },
      "source": [
        "def get_accuracy(pred_list, actual):\n",
        "  \"\"\"\n",
        "  Determines the average accuracy of the generated data.\n",
        "\n",
        "  Args:\n",
        "      pred_list (list(list(float))): Probabilty of different states of different\n",
        "                                     random input states\n",
        "      actual (list(str)): Correct labels which is used to determine the accuracy\n",
        "\n",
        "  Returns:\n",
        "      float: Returns the accuracy of the output generated by the generator\n",
        "  \"\"\"\n",
        "  total = 0\n",
        "  for i in range(len(pred_list)):\n",
        "    total += pred_list[i][int(actual[i],2)]\n",
        "  return total/len(pred_list)"
      ],
      "execution_count": 46,
      "outputs": []
    },
    {
      "cell_type": "code",
      "metadata": {
        "id": "dQR9nmllSX6w"
      },
      "source": [
        "def hotshot(counts, bit_len):\n",
        "  \"\"\"\n",
        "  Converts the different states and its probability into a list of all state\n",
        "  relative probabilities wrt highest probable state.\n",
        "\n",
        "  Args:\n",
        "      counts (dict(str:float)): Dictionary with different states as the keys and\n",
        "                                probailities as its values\n",
        "      bit_len (int): The length of bits provided   \n",
        "\n",
        "  Returns:\n",
        "      list(float): List of probabilities of state converted into the index of \n",
        "                   the list                 \n",
        "  \"\"\"\n",
        "  new_count = []\n",
        "  max_val = max(list(counts.values()))\n",
        "  for i in range(bit_len*bit_len):\n",
        "    key = \"{0:b}\".format(i).zfill(bit_len)\n",
        "    if key in counts:\n",
        "      new_count.append(counts[key]/max_val)\n",
        "    else:\n",
        "      new_count.append(0.0)\n",
        "  return new_count"
      ],
      "execution_count": 47,
      "outputs": []
    },
    {
      "cell_type": "code",
      "metadata": {
        "id": "i9ZrmMSuq2dB"
      },
      "source": [
        "class QNNModel(nn.Module):\n",
        "  \"\"\" \n",
        "  Quantum Nueral Network model to generate different states\n",
        "\n",
        "  Args:\n",
        "      kernel_size (int): The number of qubits in the Quantum Neural Network\n",
        "                         Circuit.\n",
        "      backend (AerBackend): The backend required to run the quantum simulation\n",
        "                            for random state generation. If not set, the \n",
        "                            QASM Simulator will be chosen as default.\n",
        "      shots (int): The number of shots provided to the backend. Default value \n",
        "                   is 1024.\n",
        "      n_params (int): Number of parameters to be trained. If not set, 8 will be\n",
        "                      chosen as deafult.\n",
        "\n",
        "  Raises:\n",
        "      ValueError: Raises the error, if the size is less than 1\n",
        "  \"\"\"\n",
        "    \n",
        "  def __init__(self,kernel_size,\n",
        "               backend = Aer.get_backend('qasm_simulator'),\n",
        "               shots = 1024, n_params = 8):\n",
        "      \n",
        "    super(QNNModel, self).__init__()\n",
        "\n",
        "    if n_params < 1:\n",
        "      raise ValueError(\"The minimum number of parameters must be 1.\")\n",
        "        \n",
        "    self.backend = backend\n",
        "    self.kernel_size = kernel_size\n",
        "    self.shots = shots\n",
        "    self.n_params = n_params\n",
        "    self.param = nn.Parameter(torch.rand(self.n_params,\n",
        "                                         requires_grad=True)*np.pi)\n",
        "        \n",
        "  def forward(self, data):\n",
        "    \"\"\"\n",
        "    Performs forward propogation\n",
        "\n",
        "    Args:\n",
        "        data (TrainingData): Random training data to initialize the state\n",
        "\n",
        "    Returns:\n",
        "        tensor: Tensor of different probabilities of different input states  \n",
        "    \"\"\"\n",
        "    size = len(data.samples)\n",
        "    self.circuits = [QNNCircuit(self.kernel_size) for i in range(size)]\n",
        "    param = self.param.data.numpy()\n",
        "    data_params = data.to_params()\n",
        "\n",
        "    for i in range(size):\n",
        "      self.circuits[i].create_circuit(param, data_params[i])\n",
        "        \n",
        "    output = [hotshot(self.circuits[i].get_states(), \n",
        "              self.kernel_size) for i in range(size)]\n",
        "    return torch.tensor(output)"
      ],
      "execution_count": 74,
      "outputs": []
    },
    {
      "cell_type": "code",
      "metadata": {
        "id": "K0uGBakYhjLH"
      },
      "source": [
        "class Discriminator(nn.Module):\n",
        "  \"\"\"\n",
        "  Creates a discriminator for the GANs. Contains a single Linear layer\n",
        "  followed by the sigmoid activation function.\n",
        "\n",
        "  Args:\n",
        "      n (int): The number of neurons in the hidden layer.\n",
        "\n",
        "  Returns:\n",
        "      float: The probailility of given output state \n",
        "  \"\"\"\n",
        "  def __init__(self, n):\n",
        "        super(Discriminator, self).__init__()\n",
        "        self.dense = nn.Linear(int(n), 1);\n",
        "        self.activation = nn.Sigmoid()\n",
        "\n",
        "  def forward(self, x):\n",
        "        return self.activation(self.dense(x))"
      ],
      "execution_count": 50,
      "outputs": []
    },
    {
      "cell_type": "code",
      "metadata": {
        "id": "uRHU1iGntxis"
      },
      "source": [
        "def GAN_training(generator, discriminator, g_optimizer, d_optimizer,\n",
        "                 loss_fn, g_loss_list = [], d_loss_list = [], \n",
        "                 g_accuracy_list = [], d_accuracy_list = [], epochs = 15000):\n",
        "  \"\"\"\n",
        "  Trains the GAN with given generator and discriminator\n",
        "\n",
        "  Args:\n",
        "      generator (torch.nn.Module): Generator for GAN\n",
        "      discriminator (torch.nn.Module): Discriminator for GAN\n",
        "      g_optimizer (torch.optim): Generator's Optimizer\n",
        "      d_optimizer (torch.optim): Discriminator's Optimizer\n",
        "      loss_fn (torch.nn.Loss): Loss function for Discriminator\n",
        "      g_loss_list (list): List to store Generator's Loss\n",
        "      d_loss_list (list): List to store Discriminator's Loss\n",
        "      g_accuracy_list (list): List to store Generator's Accuracy\n",
        "      d_accuracy_list (list): List to store Discriminator's Accuracy\n",
        "      epochs (int): Number of iterations for GAN. Deafult value is 15000\n",
        "\n",
        "  \"\"\"\n",
        "\n",
        "  true_labels = torch.full((labels.size,), 1, dtype=torch.float)\n",
        "  true_data = torch.tensor([hotshot({state:1},labels.bit_len) \n",
        "                            for state in labels.data])\n",
        "\n",
        "  fake_labels = torch.zeros(labels.size)\n",
        "\n",
        "  generator.train()\n",
        "  discriminator.train()\n",
        "  for epoch in range(1,epochs+1):\n",
        "\n",
        "    # Forward pass\n",
        "    g_optimizer.zero_grad()\n",
        "\n",
        "    # Generate the data on the random states\n",
        "    g_out = generator(random_states)\n",
        "    g_accuracy = get_accuracy(g_out, labels.data)\n",
        "    \n",
        "    # Calculate the Discriminator's loss on output of random states and true\n",
        "    # labels\n",
        "    g_d_out = discriminator(g_out).view(-1)\n",
        "    g_loss = loss_fn(g_d_out, true_labels)\n",
        "\n",
        "    # Train the discriminator on the true data and true labels\n",
        "    d_optimizer.zero_grad()\n",
        "    true_d_out = discriminator(true_data).view(-1)\n",
        "    true_d_loss = loss_fn(true_d_out, true_labels)\n",
        "\n",
        "    # Train the discriminator on the output of random states and fake labels\n",
        "    g_d_f_out = discriminator(g_out.detach()).view(-1)\n",
        "    g_d_loss = loss_fn(g_d_f_out, fake_labels)\n",
        "    d_loss = true_d_loss + g_d_loss\n",
        "    d_loss.backward()\n",
        "    d_optimizer.step()\n",
        "\n",
        "    # Backpropogation of Generator\n",
        "    g_loss.backward()\n",
        "    g_optimizer.step()\n",
        "\n",
        "    g_loss_list.append(g_loss.item())\n",
        "    d_loss_list.append(d_loss.item())\n",
        "    g_accuracy_list.append(g_accuracy)\n",
        "    d_accuracy_list.append(true_d_out.mean(0).detach().numpy())\n",
        "\n",
        "    if epoch%1000==0:\n",
        "      print('Epoch {:03d}\\tGenerator Loss: {:.4f}\\tGenerator Accuracy: {:.4f}\\t'.\n",
        "              format(epoch, g_loss.item(), g_accuracy), end='')\n",
        "      print('Discriminator Loss: {:.4f}\\tDiscriminator Accuracy: {:.4f}'.\n",
        "            format(d_loss.item(), d_accuracy_list[-1]))"
      ],
      "execution_count": 72,
      "outputs": []
    },
    {
      "cell_type": "markdown",
      "metadata": {
        "id": "KlQMfRoEtucF"
      },
      "source": [
        "#Train the Hybrid Quantum GAN"
      ]
    },
    {
      "cell_type": "code",
      "metadata": {
        "colab": {
          "base_uri": "https://localhost:8080/"
        },
        "id": "B3mFCJ63LCaR",
        "outputId": "e55be3e6-d3a5-4f4e-f3e2-3c67e15ba630"
      },
      "source": [
        "qgenerator = QNNModel(kernel_size=4, n_params=32)\n",
        "qdiscriminator = Discriminator(qgenerator.kernel_size**2)\n",
        "\n",
        "qg_optimizer = optim.Adam(qgenerator.parameters())\n",
        "qd_optimizer = optim.Adam(qdiscriminator.parameters(), lr=0.001)\n",
        "\n",
        "qloss_fn = nn.BCELoss()\n",
        "epochs = 15000\n",
        "\n",
        "qg_loss_list = []\n",
        "qd_loss_list = []\n",
        "\n",
        "qg_accuracy_list = []\n",
        "qd_accuracy_list = []\n",
        "\n",
        "GAN_training(qgenerator, qdiscriminator, qg_optimizer, qd_optimizer,\n",
        "             qloss_fn, qg_loss_list, qd_loss_list, qg_accuracy_list,\n",
        "             qd_accuracy_list, epochs = 15000)"
      ],
      "execution_count": 83,
      "outputs": [
        {
          "output_type": "stream",
          "name": "stdout",
          "text": [
            "Epoch 1000\tGenerator Loss: 1.9247\tGenerator Accuracy: 0.4301\tDiscriminator Loss: 0.4518\tDiscriminator Accuracy: 0.7560\n",
            "Epoch 2000\tGenerator Loss: 2.8220\tGenerator Accuracy: 0.4441\tDiscriminator Loss: 0.2039\tDiscriminator Accuracy: 0.8774\n",
            "Epoch 3000\tGenerator Loss: 3.2595\tGenerator Accuracy: 0.4309\tDiscriminator Loss: 0.1222\tDiscriminator Accuracy: 0.9318\n",
            "Epoch 4000\tGenerator Loss: 3.8882\tGenerator Accuracy: 0.4463\tDiscriminator Loss: 0.0738\tDiscriminator Accuracy: 0.9597\n",
            "Epoch 5000\tGenerator Loss: 5.1541\tGenerator Accuracy: 0.4210\tDiscriminator Loss: 0.0379\tDiscriminator Accuracy: 0.9755\n",
            "Epoch 6000\tGenerator Loss: 5.0866\tGenerator Accuracy: 0.4039\tDiscriminator Loss: 0.0249\tDiscriminator Accuracy: 0.9846\n",
            "Epoch 7000\tGenerator Loss: 6.6369\tGenerator Accuracy: 0.4491\tDiscriminator Loss: 0.0167\tDiscriminator Accuracy: 0.9903\n",
            "Epoch 8000\tGenerator Loss: 6.4657\tGenerator Accuracy: 0.4427\tDiscriminator Loss: 0.0092\tDiscriminator Accuracy: 0.9937\n",
            "Epoch 9000\tGenerator Loss: 7.1595\tGenerator Accuracy: 0.4641\tDiscriminator Loss: 0.0068\tDiscriminator Accuracy: 0.9960\n",
            "Epoch 10000\tGenerator Loss: 8.3733\tGenerator Accuracy: 0.4339\tDiscriminator Loss: 0.0040\tDiscriminator Accuracy: 0.9974\n",
            "Epoch 11000\tGenerator Loss: 9.6134\tGenerator Accuracy: 0.4483\tDiscriminator Loss: 0.0019\tDiscriminator Accuracy: 0.9983\n",
            "Epoch 12000\tGenerator Loss: 9.4173\tGenerator Accuracy: 0.4439\tDiscriminator Loss: 0.0016\tDiscriminator Accuracy: 0.9989\n",
            "Epoch 13000\tGenerator Loss: 9.5850\tGenerator Accuracy: 0.4326\tDiscriminator Loss: 0.0009\tDiscriminator Accuracy: 0.9993\n",
            "Epoch 14000\tGenerator Loss: 10.2748\tGenerator Accuracy: 0.4223\tDiscriminator Loss: 0.0007\tDiscriminator Accuracy: 0.9995\n",
            "Epoch 15000\tGenerator Loss: 10.7425\tGenerator Accuracy: 0.4345\tDiscriminator Loss: 0.0006\tDiscriminator Accuracy: 0.9997\n"
          ]
        }
      ]
    },
    {
      "cell_type": "markdown",
      "metadata": {
        "id": "eW9r3oYd1FO2"
      },
      "source": [
        "#Results and Conclusions"
      ]
    },
    {
      "cell_type": "code",
      "metadata": {
        "colab": {
          "base_uri": "https://localhost:8080/",
          "height": 350
        },
        "id": "wad3RyGhTR1l",
        "outputId": "d6c49236-f045-44e2-90f7-d408b97e6269"
      },
      "source": [
        "plt.figure(figsize=(10,5))\n",
        "plt.title(\"Generator and Discriminator Loss During Hybrid Quantum \\\n",
        "GAN Training\")\n",
        "plt.plot(qg_loss_list, label='Generator')\n",
        "plt.plot(qd_loss_list, label='Discriminator')\n",
        "plt.xlabel('Training Iterations')\n",
        "plt.ylabel('Training Loss')\n",
        "plt.legend()\n",
        "plt.show()"
      ],
      "execution_count": 84,
      "outputs": [
        {
          "output_type": "display_data",
          "data": {
            "image/png": "[encoded data removed]",
            "text/plain": [
              "<Figure size 720x360 with 1 Axes>"
            ]
          },
          "metadata": {
            "needs_background": "light"
          }
        }
      ]
    },
    {
      "cell_type": "code",
      "metadata": {
        "colab": {
          "base_uri": "https://localhost:8080/",
          "height": 350
        },
        "id": "9z7en3XJzxPo",
        "outputId": "199dc15d-eae3-4645-fc83-0560c55c9c09"
      },
      "source": [
        "plt.figure(figsize=(10,5))\n",
        "plt.title(\"Generator and Discriminator Accuracy During Hybrid Quantum \\\n",
        "GAN Training\")\n",
        "plt.plot(qg_accuracy_list, label='Generator')\n",
        "plt.plot(qd_accuracy_list, label='Discriminator')\n",
        "plt.xlabel('Training Iterations')\n",
        "plt.ylabel('Training Accuracy')\n",
        "plt.legend()\n",
        "plt.show()"
      ],
      "execution_count": 85,
      "outputs": [
        {
          "output_type": "display_data",
          "data": {
            "image/png": "[encoded data removed]",
            "text/plain": [
              "<Figure size 720x360 with 1 Axes>"
            ]
          },
          "metadata": {
            "needs_background": "light"
          }
        }
      ]
    },
    {
      "cell_type": "markdown",
      "metadata": {
        "id": "Dl0H8de91qEB"
      },
      "source": [
        "##Conclusions\n",
        "\n",
        "By analyzing the Generator's and Discriminator's Loss Graph of Hybrid Quantum GAN, we can see that the loss of the Generator is continously increasing while Discriminator's loss is decreasing. This indicates that the Hybrid QGAN model is reaching failure mode. The discriminator can easily identify that the random quantum states cannot produce the predefined output states. It can also be said that the generator is not able to produce the states with probable states.\n",
        "\n",
        "This can also be verified by analysing the accuracy graph. It shows that the disciminator is becoming good at finding that the given outputs don't correspond to the actual labels. For the ideal GAN model,\n",
        "\n",
        "* The accuracy of generator should reach 100%.\n",
        "* The Discriminator's loss should be around 0.5 indicating it is facing hard time deciding if the generator is producing the correct results.\n",
        "\n",
        "###Possible Solutions\n",
        "\n",
        "* **Increasing the number of iterations**: Increasing the number of iterations in GANs usually help the generator to produce good data. However, in this case it seem unlikely it will help because with increasing iterations, the loss does not seem to rise to 0.5 or become constant.\n",
        "* **Decreasing the learning rate of Discriminator's optimizer**: This ensures that the discriminator learns slowly so that generator could get enough time to generate good data. However, during my trails, it also does not seem to work much.\n",
        "* **Change the Quantum Circuit**: The reason why the generator is not producing the convincing results is that the circuit is not good enough. However, I tried different quantum circuit but none of them seemed to work much good."
      ]
    },
    {
      "cell_type": "markdown",
      "metadata": {
        "id": "dwZZsBkl8dnS"
      },
      "source": [
        "#Testing the Quantum Generator"
      ]
    },
    {
      "cell_type": "code",
      "metadata": {
        "id": "f0d-IILV1A3r"
      },
      "source": [
        "def GAN_test(generator, states, labels):\n",
        "  \"\"\"\n",
        "  Tests the GAN generator.\n",
        "\n",
        "  Args:\n",
        "\n",
        "      generator (torch.nn.Module): GAN Generator\n",
        "      states (TrainingData): Training Data to generate result\n",
        "      labels (Labels): Output Labels\n",
        "  \"\"\"\n",
        "  generator.eval()\n",
        "  with torch.no_grad():\n",
        "    output = generator(states)\n",
        "    for i in range(len(labels.data)):\n",
        "      output_dict = {\"{0:b}\".format(key).zfill(labels.bit_len):output[i][key] \n",
        "                for key in range(len(output[i]))}\n",
        "          \n",
        "      out_state = max(output_dict, key = lambda x: output_dict[x])\n",
        "      print(\"Random State = {}\\tActual Label = {}\\t\".\n",
        "              format(states.samples[i], labels.data[i]), end=' ')\n",
        "      print(\"Output Label = {}\\tActual Label Accuracy = {:.2f}%\".\n",
        "            format(out_state, output_dict[labels.data[i]]*100))"
      ],
      "execution_count": 86,
      "outputs": []
    },
    {
      "cell_type": "code",
      "metadata": {
        "colab": {
          "base_uri": "https://localhost:8080/"
        },
        "id": "wl_Nq0Vnczcf",
        "outputId": "25420b1e-18fe-4233-845e-7d223f3c3343"
      },
      "source": [
        "GAN_test(qgenerator, random_states, labels)"
      ],
      "execution_count": 87,
      "outputs": [
        {
          "output_type": "stream",
          "name": "stdout",
          "text": [
            "Random State = 1000\tActual Label = 0011\t Output Label = 1001\tActual Label Accuracy = 25.33%\n",
            "Random State = 0011\tActual Label = 0101\t Output Label = 0101\tActual Label Accuracy = 100.00%\n",
            "Random State = 0001\tActual Label = 1010\t Output Label = 1011\tActual Label Accuracy = 34.64%\n",
            "Random State = 0000\tActual Label = 1100\t Output Label = 1001\tActual Label Accuracy = 19.71%\n"
          ]
        }
      ]
    },
    {
      "cell_type": "code",
      "metadata": {
        "colab": {
          "base_uri": "https://localhost:8080/"
        },
        "id": "QxJjvggt9d6f",
        "outputId": "8efcdd61-c13b-4684-ee48-96ab2bf4f3fa"
      },
      "source": [
        "new_states = TrainingData(4, size=4)\n",
        "GAN_test(qgenerator, new_states, labels)"
      ],
      "execution_count": 90,
      "outputs": [
        {
          "output_type": "stream",
          "name": "stdout",
          "text": [
            "Random State = 1010\tActual Label = 0011\t Output Label = 1101\tActual Label Accuracy = 1.40%\n",
            "Random State = 1000\tActual Label = 0101\t Output Label = 1001\tActual Label Accuracy = 4.93%\n",
            "Random State = 1011\tActual Label = 1010\t Output Label = 1101\tActual Label Accuracy = 55.69%\n",
            "Random State = 1001\tActual Label = 1100\t Output Label = 1011\tActual Label Accuracy = 2.94%\n"
          ]
        }
      ]
    },
    {
      "cell_type": "code",
      "metadata": {
        "id": "8cyAZCkb9o7G"
      },
      "source": [
        ""
      ],
      "execution_count": null,
      "outputs": []
    }
  ]
}