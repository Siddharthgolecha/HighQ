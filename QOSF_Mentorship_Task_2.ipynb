{
  "nbformat": 4,
  "nbformat_minor": 0,
  "metadata": {
    "colab": {
      "name": "QOSF Mentorship Task 2.ipynb",
      "provenance": [],
      "collapsed_sections": [],
      "authorship_tag": "ABX9TyNYO6w3gnCJ3JcvVf3FUdmU",
      "include_colab_link": true
    },
    "kernelspec": {
      "name": "python3",
      "display_name": "Python 3"
    },
    "language_info": {
      "name": "python"
    }
  },
  "cells": [
    {
      "cell_type": "markdown",
      "metadata": {
        "id": "view-in-github",
        "colab_type": "text"
      },
      "source": [
        "<a href=\"https://colab.research.google.com/github/Siddharthgolecha/HighQ/blob/add_colab_notebook/QOSF_Mentorship_Task_2.ipynb\" target=\"_parent\"><img src=\"https://colab.research.google.com/assets/colab-badge.svg\" alt=\"Open In Colab\"/></a>"
      ]
    },
    {
      "cell_type": "code",
      "metadata": {
        "colab": {
          "base_uri": "https://localhost:8080/"
        },
        "id": "kjXGOOz5wL5y",
        "outputId": "5ed61c9f-55a2-4020-910a-3e43a8c2cd69"
      },
      "source": [
        "!pip install qiskit\n",
        "!pip install torch\n",
        "!pip install pennylane"
      ],
      "execution_count": 1,
      "outputs": [
        {
          "output_type": "stream",
          "name": "stdout",
          "text": [
            "Collecting qiskit\n",
            "  Downloading qiskit-0.30.0.tar.gz (12 kB)\n",
            "Collecting qiskit-terra==0.18.2\n",
            "  Downloading qiskit_terra-0.18.2-cp37-cp37m-manylinux2010_x86_64.whl (6.1 MB)\n",
            "\u001b[K     |████████████████████████████████| 6.1 MB 8.8 MB/s \n",
            "\u001b[?25hCollecting qiskit-aer==0.9.0\n",
            "  Downloading qiskit_aer-0.9.0-cp37-cp37m-manylinux_2_12_x86_64.manylinux2010_x86_64.whl (17.9 MB)\n",
            "\u001b[K     |████████████████████████████████| 17.9 MB 112 kB/s \n",
            "\u001b[?25hCollecting qiskit-ibmq-provider==0.16.0\n",
            "  Downloading qiskit_ibmq_provider-0.16.0-py3-none-any.whl (235 kB)\n",
            "\u001b[K     |████████████████████████████████| 235 kB 72.2 MB/s \n",
            "\u001b[?25hCollecting qiskit-ignis==0.6.0\n",
            "  Downloading qiskit_ignis-0.6.0-py3-none-any.whl (207 kB)\n",
            "\u001b[K     |████████████████████████████████| 207 kB 74.4 MB/s \n",
            "\u001b[?25hCollecting qiskit-aqua==0.9.5\n",
            "  Downloading qiskit_aqua-0.9.5-py3-none-any.whl (2.1 MB)\n",
            "\u001b[K     |████████████████████████████████| 2.1 MB 44.2 MB/s \n",
            "\u001b[?25hRequirement already satisfied: numpy>=1.16.3 in /usr/local/lib/python3.7/dist-packages (from qiskit-aer==0.9.0->qiskit) (1.19.5)\n",
            "Requirement already satisfied: scipy>=1.0 in /usr/local/lib/python3.7/dist-packages (from qiskit-aer==0.9.0->qiskit) (1.4.1)\n",
            "Collecting pybind11>=2.6\n",
            "  Downloading pybind11-2.7.1-py2.py3-none-any.whl (200 kB)\n",
            "\u001b[K     |████████████████████████████████| 200 kB 61.7 MB/s \n",
            "\u001b[?25hCollecting yfinance>=0.1.62\n",
            "  Downloading yfinance-0.1.63.tar.gz (26 kB)\n",
            "Collecting dlx<=1.0.4\n",
            "  Downloading dlx-1.0.4.tar.gz (5.5 kB)\n",
            "Collecting quandl\n",
            "  Downloading Quandl-3.6.1-py2.py3-none-any.whl (26 kB)\n",
            "Requirement already satisfied: scikit-learn>=0.20.0 in /usr/local/lib/python3.7/dist-packages (from qiskit-aqua==0.9.5->qiskit) (0.22.2.post1)\n",
            "Requirement already satisfied: fastdtw<=0.3.4 in /usr/local/lib/python3.7/dist-packages (from qiskit-aqua==0.9.5->qiskit) (0.3.4)\n",
            "Requirement already satisfied: pandas in /usr/local/lib/python3.7/dist-packages (from qiskit-aqua==0.9.5->qiskit) (1.1.5)\n",
            "Collecting docplex>=2.21.207\n",
            "  Downloading docplex-2.22.213.tar.gz (634 kB)\n",
            "\u001b[K     |████████████████████████████████| 634 kB 56.1 MB/s \n",
            "\u001b[?25hRequirement already satisfied: setuptools>=40.1.0 in /usr/local/lib/python3.7/dist-packages (from qiskit-aqua==0.9.5->qiskit) (57.4.0)\n",
            "Requirement already satisfied: h5py<3.3.0 in /usr/local/lib/python3.7/dist-packages (from qiskit-aqua==0.9.5->qiskit) (3.1.0)\n",
            "Collecting retworkx>=0.8.0\n",
            "  Downloading retworkx-0.10.2-cp37-cp37m-manylinux_2_5_x86_64.manylinux1_x86_64.manylinux_2_12_x86_64.manylinux2010_x86_64.whl (1.4 MB)\n",
            "\u001b[K     |████████████████████████████████| 1.4 MB 58.0 MB/s \n",
            "\u001b[?25hRequirement already satisfied: psutil>=5 in /usr/local/lib/python3.7/dist-packages (from qiskit-aqua==0.9.5->qiskit) (5.4.8)\n",
            "Requirement already satisfied: sympy>=1.3 in /usr/local/lib/python3.7/dist-packages (from qiskit-aqua==0.9.5->qiskit) (1.7.1)\n",
            "Requirement already satisfied: requests>=2.19 in /usr/local/lib/python3.7/dist-packages (from qiskit-ibmq-provider==0.16.0->qiskit) (2.23.0)\n",
            "Collecting websocket-client>=1.0.1\n",
            "  Downloading websocket_client-1.2.1-py2.py3-none-any.whl (52 kB)\n",
            "\u001b[K     |████████████████████████████████| 52 kB 1.4 MB/s \n",
            "\u001b[?25hCollecting requests-ntlm>=1.1.0\n",
            "  Downloading requests_ntlm-1.1.0-py2.py3-none-any.whl (5.7 kB)\n",
            "Requirement already satisfied: urllib3>=1.21.1 in /usr/local/lib/python3.7/dist-packages (from qiskit-ibmq-provider==0.16.0->qiskit) (1.24.3)\n",
            "Requirement already satisfied: python-dateutil>=2.8.0 in /usr/local/lib/python3.7/dist-packages (from qiskit-ibmq-provider==0.16.0->qiskit) (2.8.2)\n",
            "Collecting python-constraint>=1.4\n",
            "  Downloading python-constraint-1.4.0.tar.bz2 (18 kB)\n",
            "Collecting fastjsonschema>=2.10\n",
            "  Downloading fastjsonschema-2.15.1-py3-none-any.whl (21 kB)\n",
            "Collecting symengine>0.7\n",
            "  Downloading symengine-0.8.1-cp37-cp37m-manylinux2010_x86_64.whl (38.2 MB)\n",
            "\u001b[K     |████████████████████████████████| 38.2 MB 25 kB/s \n",
            "\u001b[?25hCollecting tweedledum<2.0,>=1.1\n",
            "  Downloading tweedledum-1.1.1-cp37-cp37m-manylinux_2_12_x86_64.manylinux2010_x86_64.whl (943 kB)\n",
            "\u001b[K     |████████████████████████████████| 943 kB 45.4 MB/s \n",
            "\u001b[?25hCollecting ply>=3.10\n",
            "  Downloading ply-3.11-py2.py3-none-any.whl (49 kB)\n",
            "\u001b[K     |████████████████████████████████| 49 kB 5.7 MB/s \n",
            "\u001b[?25hRequirement already satisfied: dill>=0.3 in /usr/local/lib/python3.7/dist-packages (from qiskit-terra==0.18.2->qiskit) (0.3.4)\n",
            "Requirement already satisfied: jsonschema>=2.6 in /usr/local/lib/python3.7/dist-packages (from qiskit-terra==0.18.2->qiskit) (2.6.0)\n",
            "Requirement already satisfied: six in /usr/local/lib/python3.7/dist-packages (from docplex>=2.21.207->qiskit-aqua==0.9.5->qiskit) (1.15.0)\n",
            "Requirement already satisfied: cached-property in /usr/local/lib/python3.7/dist-packages (from h5py<3.3.0->qiskit-aqua==0.9.5->qiskit) (1.5.2)\n",
            "Requirement already satisfied: chardet<4,>=3.0.2 in /usr/local/lib/python3.7/dist-packages (from requests>=2.19->qiskit-ibmq-provider==0.16.0->qiskit) (3.0.4)\n",
            "Requirement already satisfied: idna<3,>=2.5 in /usr/local/lib/python3.7/dist-packages (from requests>=2.19->qiskit-ibmq-provider==0.16.0->qiskit) (2.10)\n",
            "Requirement already satisfied: certifi>=2017.4.17 in /usr/local/lib/python3.7/dist-packages (from requests>=2.19->qiskit-ibmq-provider==0.16.0->qiskit) (2021.5.30)\n",
            "Collecting ntlm-auth>=1.0.2\n",
            "  Downloading ntlm_auth-1.5.0-py2.py3-none-any.whl (29 kB)\n",
            "Collecting cryptography>=1.3\n",
            "  Downloading cryptography-3.4.8-cp36-abi3-manylinux_2_24_x86_64.whl (3.0 MB)\n",
            "\u001b[K     |████████████████████████████████| 3.0 MB 39.7 MB/s \n",
            "\u001b[?25hRequirement already satisfied: cffi>=1.12 in /usr/local/lib/python3.7/dist-packages (from cryptography>=1.3->requests-ntlm>=1.1.0->qiskit-ibmq-provider==0.16.0->qiskit) (1.14.6)\n",
            "Requirement already satisfied: pycparser in /usr/local/lib/python3.7/dist-packages (from cffi>=1.12->cryptography>=1.3->requests-ntlm>=1.1.0->qiskit-ibmq-provider==0.16.0->qiskit) (2.20)\n",
            "Requirement already satisfied: joblib>=0.11 in /usr/local/lib/python3.7/dist-packages (from scikit-learn>=0.20.0->qiskit-aqua==0.9.5->qiskit) (1.0.1)\n",
            "Requirement already satisfied: mpmath>=0.19 in /usr/local/lib/python3.7/dist-packages (from sympy>=1.3->qiskit-aqua==0.9.5->qiskit) (1.2.1)\n",
            "Requirement already satisfied: multitasking>=0.0.7 in /usr/local/lib/python3.7/dist-packages (from yfinance>=0.1.62->qiskit-aqua==0.9.5->qiskit) (0.0.9)\n",
            "Collecting lxml>=4.5.1\n",
            "  Downloading lxml-4.6.3-cp37-cp37m-manylinux2014_x86_64.whl (6.3 MB)\n",
            "\u001b[K     |████████████████████████████████| 6.3 MB 39.6 MB/s \n",
            "\u001b[?25hRequirement already satisfied: pytz>=2017.2 in /usr/local/lib/python3.7/dist-packages (from pandas->qiskit-aqua==0.9.5->qiskit) (2018.9)\n",
            "Requirement already satisfied: more-itertools in /usr/local/lib/python3.7/dist-packages (from quandl->qiskit-aqua==0.9.5->qiskit) (8.9.0)\n",
            "Collecting inflection>=0.3.1\n",
            "  Downloading inflection-0.5.1-py2.py3-none-any.whl (9.5 kB)\n",
            "Building wheels for collected packages: qiskit, dlx, docplex, python-constraint, yfinance\n",
            "  Building wheel for qiskit (setup.py) ... \u001b[?25l\u001b[?25hdone\n",
            "  Created wheel for qiskit: filename=qiskit-0.30.0-py3-none-any.whl size=11273 sha256=6dd0c91060748d1d6345b0ec9283db665444f4b734561ab25906e9747065d418\n",
            "  Stored in directory: /root/.cache/pip/wheels/30/2b/0f/42f529b566315599b81731f2a58728da92883b00cccb78b6c1\n",
            "  Building wheel for dlx (setup.py) ... \u001b[?25l\u001b[?25hdone\n",
            "  Created wheel for dlx: filename=dlx-1.0.4-py3-none-any.whl size=5719 sha256=bf4e95d6a020de08ed0e9070f4f879f4079d958f8b24446ec062243f3894d12b\n",
            "  Stored in directory: /root/.cache/pip/wheels/78/55/c8/dc61e772445a566b7608a476d151e9dcaf4e092b01b0c4bc3c\n",
            "  Building wheel for docplex (setup.py) ... \u001b[?25l\u001b[?25hdone\n",
            "  Created wheel for docplex: filename=docplex-2.22.213-py3-none-any.whl size=696881 sha256=741bab48c013b2790c8891558c4973fd4038b49f601e0f99f0a29ae521744efe\n",
            "  Stored in directory: /root/.cache/pip/wheels/90/69/6b/1375c68a5b7ff94c40263b151c86f58bd72200bf0c465b5ba3\n",
            "  Building wheel for python-constraint (setup.py) ... \u001b[?25l\u001b[?25hdone\n",
            "  Created wheel for python-constraint: filename=python_constraint-1.4.0-py2.py3-none-any.whl size=24081 sha256=1502760aa945cbf9d53d0255df3aba81d5385cfd90e36e0b9c5444ef230ba864\n",
            "  Stored in directory: /root/.cache/pip/wheels/07/27/db/1222c80eb1e431f3d2199c12569cb1cac60f562a451fe30479\n",
            "  Building wheel for yfinance (setup.py) ... \u001b[?25l\u001b[?25hdone\n",
            "  Created wheel for yfinance: filename=yfinance-0.1.63-py2.py3-none-any.whl size=23918 sha256=f01d91136eb833a8f3b9ec2f8b83f8995e075262e72656720a25af775969764c\n",
            "  Stored in directory: /root/.cache/pip/wheels/fe/87/8b/7ec24486e001d3926537f5f7801f57a74d181be25b11157983\n",
            "Successfully built qiskit dlx docplex python-constraint yfinance\n",
            "Installing collected packages: tweedledum, symengine, retworkx, python-constraint, ply, fastjsonschema, qiskit-terra, ntlm-auth, lxml, inflection, cryptography, yfinance, websocket-client, requests-ntlm, quandl, qiskit-ignis, pybind11, docplex, dlx, qiskit-ibmq-provider, qiskit-aqua, qiskit-aer, qiskit\n",
            "  Attempting uninstall: lxml\n",
            "    Found existing installation: lxml 4.2.6\n",
            "    Uninstalling lxml-4.2.6:\n",
            "      Successfully uninstalled lxml-4.2.6\n",
            "Successfully installed cryptography-3.4.8 dlx-1.0.4 docplex-2.22.213 fastjsonschema-2.15.1 inflection-0.5.1 lxml-4.6.3 ntlm-auth-1.5.0 ply-3.11 pybind11-2.7.1 python-constraint-1.4.0 qiskit-0.30.0 qiskit-aer-0.9.0 qiskit-aqua-0.9.5 qiskit-ibmq-provider-0.16.0 qiskit-ignis-0.6.0 qiskit-terra-0.18.2 quandl-3.6.1 requests-ntlm-1.1.0 retworkx-0.10.2 symengine-0.8.1 tweedledum-1.1.1 websocket-client-1.2.1 yfinance-0.1.63\n",
            "Requirement already satisfied: torch in /usr/local/lib/python3.7/dist-packages (1.9.0+cu102)\n",
            "Requirement already satisfied: typing-extensions in /usr/local/lib/python3.7/dist-packages (from torch) (3.7.4.3)\n",
            "Collecting pennylane\n",
            "  Downloading PennyLane-0.18.0-py3-none-any.whl (631 kB)\n",
            "\u001b[K     |████████████████████████████████| 631 kB 8.3 MB/s \n",
            "\u001b[?25hRequirement already satisfied: numpy in /usr/local/lib/python3.7/dist-packages (from pennylane) (1.19.5)\n",
            "Collecting autoray\n",
            "  Downloading autoray-0.2.5-py3-none-any.whl (16 kB)\n",
            "Requirement already satisfied: networkx in /usr/local/lib/python3.7/dist-packages (from pennylane) (2.6.3)\n",
            "Requirement already satisfied: toml in /usr/local/lib/python3.7/dist-packages (from pennylane) (0.10.2)\n",
            "Collecting pennylane-lightning>=0.18\n",
            "  Downloading PennyLane_Lightning-0.18.0-cp37-cp37m-manylinux2010_x86_64.whl (4.4 MB)\n",
            "\u001b[K     |████████████████████████████████| 4.4 MB 53.8 MB/s \n",
            "\u001b[?25hRequirement already satisfied: appdirs in /usr/local/lib/python3.7/dist-packages (from pennylane) (1.4.4)\n",
            "Collecting semantic-version==2.6\n",
            "  Downloading semantic_version-2.6.0-py3-none-any.whl (14 kB)\n",
            "Requirement already satisfied: autograd in /usr/local/lib/python3.7/dist-packages (from pennylane) (1.3)\n",
            "Requirement already satisfied: scipy in /usr/local/lib/python3.7/dist-packages (from pennylane) (1.4.1)\n",
            "Requirement already satisfied: cachetools in /usr/local/lib/python3.7/dist-packages (from pennylane) (4.2.2)\n",
            "Requirement already satisfied: future>=0.15.2 in /usr/local/lib/python3.7/dist-packages (from autograd->pennylane) (0.16.0)\n",
            "Installing collected packages: semantic-version, pennylane-lightning, autoray, pennylane\n",
            "Successfully installed autoray-0.2.5 pennylane-0.18.0 pennylane-lightning-0.18.0 semantic-version-2.6.0\n"
          ]
        }
      ]
    },
    {
      "cell_type": "code",
      "metadata": {
        "id": "cqvS5Oj5xDZo"
      },
      "source": [
        "import qiskit\n",
        "import numpy as np\n",
        "import torch\n",
        "import matplotlib.pyplot as plt\n",
        "from qiskit import QuantumCircuit, QuantumRegister, ClassicalRegister, Aer\n",
        "from qiskit.tools.visualization import plot_histogram\n",
        "from torch.autograd import Function\n",
        "from qiskit.visualization import *\n",
        "import torch.nn as nn\n",
        "import torch.optim as optim\n",
        "from tqdm import tqdm"
      ],
      "execution_count": 291,
      "outputs": []
    },
    {
      "cell_type": "code",
      "metadata": {
        "id": "08G5WftSTuDe"
      },
      "source": [
        "class TrainingData:\n",
        "\n",
        "  def __init__(self,n, size, backend=Aer.get_backend('qasm_simulator'),\n",
        "               shots=1024):\n",
        "    self.n = n\n",
        "    self.backend = backend\n",
        "    self.shots = shots\n",
        "    self.size = size\n",
        "    self.n_params = None\n",
        "    self.samples = [self.generate_sample(self.n, self.backend, self.shots)\n",
        "     for i in range(self.size)]\n",
        "\n",
        "  def generate_sample(self,n,backend,shots):\n",
        "    circuit = QuantumCircuit(n,n)\n",
        "    for i in range(n):\n",
        "      args = np.random.rand(3)*2*np.pi\n",
        "      circuit.u(args[0], args[1], args[2], i)\n",
        "      circuit.measure(i,i)\n",
        "    result = backend.run(circuit, shots=shots).result()\n",
        "    counts = result.get_counts()\n",
        "    return max(counts, key = lambda x: counts[x])\n",
        "\n",
        "  def to_params(self, n_params=None):\n",
        "    if n_params is None:\n",
        "      if n_params == self.n_params:\n",
        "        raise \"Add the number of paramters to convert\"\n",
        "      else:\n",
        "        self.n_params = n_params\n",
        "    self.params = np.zeros((self.size,n_params))\n",
        "    for index in range(self.size):\n",
        "      sample = self.samples[index]\n",
        "      for i in range(self.n):\n",
        "        state = sample[i]\n",
        "        if state==\"1\":\n",
        "          self.params[index][self.n-i-1] = np.pi/2\n",
        "    return self.params\n",
        "\n",
        "  def __str__(self):\n",
        "    return str(self.samples)"
      ],
      "execution_count": 281,
      "outputs": []
    },
    {
      "cell_type": "code",
      "metadata": {
        "id": "fQisD_ix4DCi"
      },
      "source": [
        "class Labels:\n",
        "\n",
        "  def __init__(self, data):\n",
        "    self.data = data\n",
        "    self.size = len(data)\n",
        "    self.n = len(data[0])\n",
        "    self.n_params = None\n",
        "\n",
        "  def to_params(self, n_params=None):\n",
        "    if n_params is None:\n",
        "      if n_params == self.n_params:\n",
        "        raise \"Add the number of paramters to convert\"\n",
        "      else:\n",
        "        self.n_params = n_params\n",
        "    self.params = np.zeros((self.size,n_params))\n",
        "    for index in range(self.size):\n",
        "      sample = self.data[index]\n",
        "      for i in range(self.n):\n",
        "        state = sample[i]\n",
        "        if state==\"1\":\n",
        "          self.params[index][self.n-i-1] = np.pi/2\n",
        "    return self.params\n",
        "\n",
        "  def __str__(self):\n",
        "    return str(self.data)"
      ],
      "execution_count": 282,
      "outputs": []
    },
    {
      "cell_type": "code",
      "metadata": {
        "id": "sJSyJH8m6HXe"
      },
      "source": [
        "class QNNCircuit:\n",
        "    \"\"\" \n",
        "    This class provides a simple interface for interaction \n",
        "    with the quantum circuit for training\n",
        "    \"\"\"\n",
        "    \n",
        "    def __init__(self, kernel_size,\n",
        "                 backend=Aer.get_backend('qasm_simulator'),\n",
        "                 shots = 1024):\n",
        "        # --- Circuit definition ---\n",
        "        self.kernel_size = kernel_size\n",
        "        self.control_qubit = QuantumRegister(1, name=\"control\")\n",
        "        self.training_qubits = QuantumRegister(kernel_size, name=\"training\")\n",
        "        self.data_qubits = QuantumRegister(kernel_size, name=\"data\")\n",
        "        self.training_meas_register = ClassicalRegister(kernel_size,\n",
        "                                                        \"train_meas\")\n",
        "        self.measuring_register = ClassicalRegister(1, \"meas\")\n",
        "        # ---------------------------\n",
        "        self.backend = backend\n",
        "        self.shots = shots\n",
        "    \n",
        "    def create_circuit(self, thetas, X):\n",
        "      self.circuit = QuantumCircuit(self.control_qubit,\n",
        "                                      self.training_qubits,\n",
        "                                      self.data_qubits)\n",
        "      for i in range(len(thetas)):\n",
        "        if (i//self.kernel_size)%self.kernel_size == 0:\n",
        "          self.circuit.ry(thetas[i], \n",
        "                          self.training_qubits[i%self.kernel_size])\n",
        "        else:\n",
        "          self.circuit.rz(thetas[i], \n",
        "                          self.training_qubits[i%self.kernel_size])\n",
        "        \n",
        "      for i in range(len(X)):\n",
        "        if (i//self.kernel_size)%self.kernel_size == 0:\n",
        "          self.circuit.ry(X[i], self.data_qubits[i%self.kernel_size])\n",
        "        else:\n",
        "          self.circuit.rz(X[i], self.data_qubits[i%self.kernel_size])\n",
        "      self.circuit.h(self.control_qubit)\n",
        "      for i in range(self.kernel_size):\n",
        "        self.circuit.cswap(self.control_qubit, self.training_qubits[i],\n",
        "                             self.data_qubits[i])\n",
        "      self.circuit.h(self.control_qubit)\n",
        "      self.train_circuit = self.circuit.copy()\n",
        "        \n",
        "    def expval(self):\n",
        "      self.circuit.add_register(self.measuring_register)\n",
        "      self.circuit.measure(self.control_qubit, self.measuring_register)\n",
        "      job = self.backend.run(self.circuit, shots=self.shots)\n",
        "      counts = job.result().get_counts()\n",
        "      self.result = {int(key,2):val/self.shots for key,val in counts.items()}\n",
        "      self.expval = 0\n",
        "      for key,val in self.result.items():\n",
        "        self.expval += key*val\n",
        "      return self.expval\n",
        "\n",
        "    def get_training_states(self):\n",
        "      self.train_circuit.barrier()\n",
        "      self.train_circuit.add_register(self.training_meas_register)\n",
        "      self.train_circuit.measure(self.data_qubits,\n",
        "                                 self.training_meas_register)\n",
        "      job = self.backend.run(self.train_circuit, shots=self.shots)\n",
        "      counts = job.result().get_counts()\n",
        "      print(counts)\n",
        "      output = {key: val/self.shots for key, val in counts.items()}\n",
        "      return output"
      ],
      "execution_count": 343,
      "outputs": []
    },
    {
      "cell_type": "code",
      "metadata": {
        "id": "q5CWT_mNJxnR"
      },
      "source": [
        "def get_accuracy(pred, actual):\n",
        "  assert len(pred) == len(actual)\n",
        "  total = 0\n",
        "  for val in range(len(actual)):\n",
        "    total += pred[i][actual] \n",
        "  return total/len(actual)"
      ],
      "execution_count": 292,
      "outputs": []
    },
    {
      "cell_type": "code",
      "metadata": {
        "id": "B4SqAjmIuwlD"
      },
      "source": [
        "def paramList_to_numpy(params):\n",
        "  new_params = np.array([param.data.numpy() for param in params])\n",
        "  return new_params"
      ],
      "execution_count": 320,
      "outputs": []
    },
    {
      "cell_type": "code",
      "metadata": {
        "id": "PEtSE4VauPFG"
      },
      "source": [
        "class QNNFunction(Function):\n",
        "    \"\"\" Hybrid quantum - classical function definition \"\"\"\n",
        "    \n",
        "    @staticmethod\n",
        "    def forward(ctx, data, params, quantum_circuits, kernel_size,\n",
        "                shift, backend, shots):\n",
        "        \"\"\" Forward pass computation \"\"\"\n",
        "        ctx.kernel_size = kernel_size\n",
        "        ctx.shift = shift\n",
        "        ctx.quantum_circuits = quantum_circuits\n",
        "        ctx.backend = backend\n",
        "        ctx.shots = shots\n",
        "        output_classes = [ctx.quantum_circuits[i].get_training_states() \n",
        "        for i in range(data.n)]\n",
        "        result = torch.tensor(output_classes)\n",
        "        ctx.save_for_backward(data, params)\n",
        "\n",
        "        return result\n",
        "        \n",
        "    @staticmethod\n",
        "    def backward(ctx, grad_output):\n",
        "        \"\"\" Backward pass computation \"\"\"\n",
        "        data, params = ctx.saved_tensors\n",
        "        input_list = paramList_to_numpy(self.params)\n",
        "        data_params = data.to_params()\n",
        "        shift_right = input_list + np.ones(input_list.shape) * ctx.shift\n",
        "        shift_left = input_list - np.ones(input_list.shape) * ctx.shift\n",
        "        gradients = []\n",
        "        right_circuit = [QNNCircuit(ctx.kernel_size) for i in\n",
        "                         range(len(input_list))]\n",
        "        left_circuit = [QNNCircuit(ctx.kernel_size) for i in\n",
        "                         range(len(input_list))]\n",
        "        for i in range(len(input_list)):\n",
        "          right_circuit[i].create_circuit(shift_right[i], data_params[i])\n",
        "          left_circuit[i].create_circuit(left_right[i], data_params[i])\n",
        "          expectation_right = right_circuit[i].expval()\n",
        "          expectation_left  = left_circuit[i].expval()\n",
        "          gradient = torch.tensor(expectation_right) - torch.tensor(expectation_left)\n",
        "          gradients.append(gradient.tolist())\n",
        "        \n",
        "        gradients = torch.tensor(gradients, dtype=torch.float64)\n",
        "        gradients = torch.transpose(gradients,0,1)\n",
        "        \n",
        "        mm = torch.mm(grad_output,gradients)\n",
        "        #print(mm.shape)\n",
        "        return mm"
      ],
      "execution_count": 366,
      "outputs": []
    },
    {
      "cell_type": "code",
      "metadata": {
        "id": "i9ZrmMSuq2dB"
      },
      "source": [
        "class QNNModel(nn.Module):\n",
        "    \"\"\" Hybrid quantum - classical layer definition \"\"\"\n",
        "    \n",
        "    def __init__(self,kernel_size, data_size,\n",
        "                 backend = Aer.get_backend('qasm_simulator'),\n",
        "                 shots = 1024, shift = 0.01, n_params = 8):\n",
        "        super(QNNModel, self).__init__()\n",
        "        self.backend = backend\n",
        "        self.kernel_size = kernel_size\n",
        "        self.shots = shots\n",
        "        self.shift = shift\n",
        "        self.n_params = n_params\n",
        "        self.data_size = data_size\n",
        "        self.params = nn.ParameterList(\n",
        "            [nn.Parameter(torch.rand(self.n_params)*2*np.pi)\n",
        "             for i in range(self.kernel_size)])\n",
        "        \n",
        "    def forward(self, data):\n",
        "        self.quantum_circuits = [QNNCircuit(self.kernel_size)\n",
        "        for i in range(self.data_size)]\n",
        "        params = paramList_to_numpy(self.params)\n",
        "        data_params = data.to_params(self.n_params)\n",
        "        for i in range(self.data_size):\n",
        "          self.quantum_circuits[i].create_circuit(params[i],\n",
        "                                                  data_params[i].tolist())\n",
        "        return QNNFunction.apply(data, self.params, self.quantum_circuits,\n",
        "                                    self.kernel_size, self.shift,\n",
        "                                    self.backend, self.shots)"
      ],
      "execution_count": 367,
      "outputs": []
    },
    {
      "cell_type": "code",
      "metadata": {
        "colab": {
          "base_uri": "https://localhost:8080/"
        },
        "id": "t1c7MOcVUAGz",
        "outputId": "26a3bc28-00a1-4916-b103-d0fcd429c6da"
      },
      "source": [
        "random_states = TrainingData(4, size=4)\n",
        "print(random_states)\n",
        "labels = Labels(['0011', '0101', '1010', '1100'])"
      ],
      "execution_count": 332,
      "outputs": [
        {
          "output_type": "stream",
          "name": "stdout",
          "text": [
            "['1100', '0001', '0011', '1010']\n"
          ]
        }
      ]
    },
    {
      "cell_type": "code",
      "metadata": {
        "colab": {
          "base_uri": "https://localhost:8080/",
          "height": 513
        },
        "id": "B3mFCJ63LCaR",
        "outputId": "5ddbece9-1172-4d2d-d367-3e12ab69cdcc"
      },
      "source": [
        "model= QNNModel(kernel_size=4, data_size=random_states.n, n_params=16)\n",
        "device = torch.device(\"cuda\" if torch.cuda.is_available() else \"cpu\")\n",
        "optimizer = optim.Adam(model.parameters(), lr=0.001)\n",
        "criterion = nn.CrossEntropyLoss().to(device)\n",
        "epochs = 50\n",
        "start_epoch = 0\n",
        "loss_list = []\n",
        "time_elapsed = []\n",
        "accuracy_list = []\n",
        "\n",
        "model.train()\n",
        "for epoch in range(start_epoch,epochs):\n",
        "    total_loss = []\n",
        "    t = tqdm(labels.data,desc=f\"Training: Epoch {epoch}\")\n",
        "    optimizer.zero_grad()\n",
        "    # Forward pass\n",
        "    output = model(random_states)\n",
        "    print(output)\n",
        "    # Calculating loss\n",
        "    loss = criterion(output, labels.data)\n",
        "    loss.backward()\n",
        "    # Optimize the weights\n",
        "    optimizer.step()\n",
        "    loss_list.append(sum(loss.item())/len(loss.item()))\n",
        "    time = t.format_interval(t.format_dict['elapsed'])\n",
        "    time_elapsed.append(time)\n",
        "    training_accuracy = get_accuracy(output, labels.data)\n",
        "    accuracy_list.append(training_accuracy)\n",
        "    print('Training [{:.0f}%]\\tLoss: {:.4f}\\tAccuracy: {:.4f}\\tTime Taken: {}'.\n",
        "          format(100. * (epoch + 1) / epochs, loss_list[-1],\n",
        "                 training_accuracy, time))"
      ],
      "execution_count": 368,
      "outputs": [
        {
          "output_type": "stream",
          "name": "stderr",
          "text": [
            "\n",
            "Training: Epoch 0:   0%|          | 0/4 [01:21<?, ?it/s]"
          ]
        },
        {
          "output_type": "stream",
          "name": "stdout",
          "text": [
            "{'1101': 14, '1100': 132, '0101': 6, '1000': 137, '0110': 39, '0100': 128, '1111': 251, '0000': 110, '0111': 77, '1110': 130}\n",
            "{'1101': 7, '1110': 2, '1011': 27, '1000': 245, '0001': 270, '1111': 3, '1010': 37, '1001': 149, '1100': 13, '0000': 271}\n",
            "{'1110': 18, '1111': 99, '1101': 84, '0111': 130, '0011': 131, '0000': 138, '0010': 130, '1100': 19, '0101': 147, '0001': 94, '0110': 23, '0100': 11}\n",
            "{'1101': 9, '0110': 1, '0100': 6, '0010': 135, '0000': 117, '1010': 130, '1000': 129, '1100': 432, '1110': 65}\n"
          ]
        },
        {
          "output_type": "stream",
          "name": "stderr",
          "text": [
            "\n"
          ]
        },
        {
          "output_type": "error",
          "ename": "RuntimeError",
          "evalue": "ignored",
          "traceback": [
            "\u001b[0;31m---------------------------------------------------------------------------\u001b[0m",
            "\u001b[0;31mRuntimeError\u001b[0m                              Traceback (most recent call last)",
            "\u001b[0;32m<ipython-input-368-f6fb5df532b2>\u001b[0m in \u001b[0;36m<module>\u001b[0;34m()\u001b[0m\n\u001b[1;32m     15\u001b[0m     \u001b[0moptimizer\u001b[0m\u001b[0;34m.\u001b[0m\u001b[0mzero_grad\u001b[0m\u001b[0;34m(\u001b[0m\u001b[0;34m)\u001b[0m\u001b[0;34m\u001b[0m\u001b[0;34m\u001b[0m\u001b[0m\n\u001b[1;32m     16\u001b[0m     \u001b[0;31m# Forward pass\u001b[0m\u001b[0;34m\u001b[0m\u001b[0;34m\u001b[0m\u001b[0;34m\u001b[0m\u001b[0m\n\u001b[0;32m---> 17\u001b[0;31m     \u001b[0moutput\u001b[0m \u001b[0;34m=\u001b[0m \u001b[0mmodel\u001b[0m\u001b[0;34m(\u001b[0m\u001b[0mrandom_states\u001b[0m\u001b[0;34m)\u001b[0m\u001b[0;34m\u001b[0m\u001b[0;34m\u001b[0m\u001b[0m\n\u001b[0m\u001b[1;32m     18\u001b[0m     \u001b[0mprint\u001b[0m\u001b[0;34m(\u001b[0m\u001b[0moutput\u001b[0m\u001b[0;34m)\u001b[0m\u001b[0;34m\u001b[0m\u001b[0;34m\u001b[0m\u001b[0m\n\u001b[1;32m     19\u001b[0m     \u001b[0;31m# Calculating loss\u001b[0m\u001b[0;34m\u001b[0m\u001b[0;34m\u001b[0m\u001b[0;34m\u001b[0m\u001b[0m\n",
            "\u001b[0;32m/usr/local/lib/python3.7/dist-packages/torch/nn/modules/module.py\u001b[0m in \u001b[0;36m_call_impl\u001b[0;34m(self, *input, **kwargs)\u001b[0m\n\u001b[1;32m   1049\u001b[0m         if not (self._backward_hooks or self._forward_hooks or self._forward_pre_hooks or _global_backward_hooks\n\u001b[1;32m   1050\u001b[0m                 or _global_forward_hooks or _global_forward_pre_hooks):\n\u001b[0;32m-> 1051\u001b[0;31m             \u001b[0;32mreturn\u001b[0m \u001b[0mforward_call\u001b[0m\u001b[0;34m(\u001b[0m\u001b[0;34m*\u001b[0m\u001b[0minput\u001b[0m\u001b[0;34m,\u001b[0m \u001b[0;34m**\u001b[0m\u001b[0mkwargs\u001b[0m\u001b[0;34m)\u001b[0m\u001b[0;34m\u001b[0m\u001b[0;34m\u001b[0m\u001b[0m\n\u001b[0m\u001b[1;32m   1052\u001b[0m         \u001b[0;31m# Do not call functions when jit is used\u001b[0m\u001b[0;34m\u001b[0m\u001b[0;34m\u001b[0m\u001b[0;34m\u001b[0m\u001b[0m\n\u001b[1;32m   1053\u001b[0m         \u001b[0mfull_backward_hooks\u001b[0m\u001b[0;34m,\u001b[0m \u001b[0mnon_full_backward_hooks\u001b[0m \u001b[0;34m=\u001b[0m \u001b[0;34m[\u001b[0m\u001b[0;34m]\u001b[0m\u001b[0;34m,\u001b[0m \u001b[0;34m[\u001b[0m\u001b[0;34m]\u001b[0m\u001b[0;34m\u001b[0m\u001b[0;34m\u001b[0m\u001b[0m\n",
            "\u001b[0;32m<ipython-input-367-3ed02b2dd941>\u001b[0m in \u001b[0;36mforward\u001b[0;34m(self, data)\u001b[0m\n\u001b[1;32m     26\u001b[0m         return QNNFunction.apply(data, self.params, self.quantum_circuits,\n\u001b[1;32m     27\u001b[0m                                     \u001b[0mself\u001b[0m\u001b[0;34m.\u001b[0m\u001b[0mkernel_size\u001b[0m\u001b[0;34m,\u001b[0m \u001b[0mself\u001b[0m\u001b[0;34m.\u001b[0m\u001b[0mshift\u001b[0m\u001b[0;34m,\u001b[0m\u001b[0;34m\u001b[0m\u001b[0;34m\u001b[0m\u001b[0m\n\u001b[0;32m---> 28\u001b[0;31m                                     self.backend, self.shots)\n\u001b[0m",
            "\u001b[0;32m<ipython-input-366-3ef98c9aa7f6>\u001b[0m in \u001b[0;36mforward\u001b[0;34m(ctx, data, params, quantum_circuits, kernel_size, shift, backend, shots)\u001b[0m\n\u001b[1;32m     13\u001b[0m         output_classes = [ctx.quantum_circuits[i].get_training_states() \n\u001b[1;32m     14\u001b[0m         for i in range(data.n)]\n\u001b[0;32m---> 15\u001b[0;31m         \u001b[0mresult\u001b[0m \u001b[0;34m=\u001b[0m \u001b[0mtorch\u001b[0m\u001b[0;34m.\u001b[0m\u001b[0mtensor\u001b[0m\u001b[0;34m(\u001b[0m\u001b[0moutput_classes\u001b[0m\u001b[0;34m)\u001b[0m\u001b[0;34m\u001b[0m\u001b[0;34m\u001b[0m\u001b[0m\n\u001b[0m\u001b[1;32m     16\u001b[0m         \u001b[0mctx\u001b[0m\u001b[0;34m.\u001b[0m\u001b[0msave_for_backward\u001b[0m\u001b[0;34m(\u001b[0m\u001b[0mdata\u001b[0m\u001b[0;34m,\u001b[0m \u001b[0mparams\u001b[0m\u001b[0;34m)\u001b[0m\u001b[0;34m\u001b[0m\u001b[0;34m\u001b[0m\u001b[0m\n\u001b[1;32m     17\u001b[0m \u001b[0;34m\u001b[0m\u001b[0m\n",
            "\u001b[0;31mRuntimeError\u001b[0m: Could not infer dtype of dict"
          ]
        }
      ]
    },
    {
      "cell_type": "code",
      "metadata": {
        "id": "wad3RyGhTR1l"
      },
      "source": [
        ""
      ],
      "execution_count": null,
      "outputs": []
    }
  ]
}